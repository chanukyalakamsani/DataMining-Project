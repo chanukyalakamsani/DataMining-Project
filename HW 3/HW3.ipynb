{
 "cells": [
  {
   "cell_type": "code",
   "execution_count": 546,
   "metadata": {},
   "outputs": [],
   "source": [
    "import numpy as np\n",
    "import pandas as pd\n",
    "import itertools\n",
    "from itertools import combinations\n",
    "from itertools import chain\n",
    "import time\n",
    "\n",
    "import random"
   ]
  },
  {
   "cell_type": "code",
   "execution_count": 547,
   "metadata": {},
   "outputs": [
    {
     "data": {
      "text/html": [
       "<div>\n",
       "<style scoped>\n",
       "    .dataframe tbody tr th:only-of-type {\n",
       "        vertical-align: middle;\n",
       "    }\n",
       "\n",
       "    .dataframe tbody tr th {\n",
       "        vertical-align: top;\n",
       "    }\n",
       "\n",
       "    .dataframe thead th {\n",
       "        text-align: right;\n",
       "    }\n",
       "</style>\n",
       "<table border=\"1\" class=\"dataframe\">\n",
       "  <thead>\n",
       "    <tr style=\"text-align: right;\">\n",
       "      <th></th>\n",
       "      <th>1</th>\n",
       "      <th>2</th>\n",
       "      <th>3</th>\n",
       "      <th>4</th>\n",
       "      <th>5</th>\n",
       "      <th>6</th>\n",
       "      <th>7</th>\n",
       "      <th>8</th>\n",
       "      <th>9</th>\n",
       "      <th>10</th>\n",
       "      <th>...</th>\n",
       "      <th>Unnamed: 66</th>\n",
       "      <th>Unnamed: 67</th>\n",
       "      <th>Unnamed: 68</th>\n",
       "      <th>Unnamed: 69</th>\n",
       "      <th>Unnamed: 70</th>\n",
       "      <th>Unnamed: 71</th>\n",
       "      <th>Unnamed: 72</th>\n",
       "      <th>Unnamed: 73</th>\n",
       "      <th>Unnamed: 74</th>\n",
       "      <th>Unnamed: 75</th>\n",
       "    </tr>\n",
       "  </thead>\n",
       "  <tbody>\n",
       "    <tr>\n",
       "      <th>0</th>\n",
       "      <td>31</td>\n",
       "      <td>32</td>\n",
       "      <td>33</td>\n",
       "      <td></td>\n",
       "      <td></td>\n",
       "      <td></td>\n",
       "      <td></td>\n",
       "      <td></td>\n",
       "      <td></td>\n",
       "      <td></td>\n",
       "      <td>...</td>\n",
       "      <td></td>\n",
       "      <td></td>\n",
       "      <td></td>\n",
       "      <td></td>\n",
       "      <td></td>\n",
       "      <td></td>\n",
       "      <td></td>\n",
       "      <td></td>\n",
       "      <td></td>\n",
       "      <td></td>\n",
       "    </tr>\n",
       "    <tr>\n",
       "      <th>1</th>\n",
       "      <td>34</td>\n",
       "      <td>35</td>\n",
       "      <td>36</td>\n",
       "      <td></td>\n",
       "      <td></td>\n",
       "      <td></td>\n",
       "      <td></td>\n",
       "      <td></td>\n",
       "      <td></td>\n",
       "      <td></td>\n",
       "      <td>...</td>\n",
       "      <td></td>\n",
       "      <td></td>\n",
       "      <td></td>\n",
       "      <td></td>\n",
       "      <td></td>\n",
       "      <td></td>\n",
       "      <td></td>\n",
       "      <td></td>\n",
       "      <td></td>\n",
       "      <td></td>\n",
       "    </tr>\n",
       "    <tr>\n",
       "      <th>2</th>\n",
       "      <td>37</td>\n",
       "      <td>38</td>\n",
       "      <td>39</td>\n",
       "      <td>40</td>\n",
       "      <td>41</td>\n",
       "      <td>42</td>\n",
       "      <td>43</td>\n",
       "      <td>44</td>\n",
       "      <td>45</td>\n",
       "      <td>46</td>\n",
       "      <td>...</td>\n",
       "      <td></td>\n",
       "      <td></td>\n",
       "      <td></td>\n",
       "      <td></td>\n",
       "      <td></td>\n",
       "      <td></td>\n",
       "      <td></td>\n",
       "      <td></td>\n",
       "      <td></td>\n",
       "      <td></td>\n",
       "    </tr>\n",
       "    <tr>\n",
       "      <th>3</th>\n",
       "      <td>39</td>\n",
       "      <td>40</td>\n",
       "      <td>48</td>\n",
       "      <td>49</td>\n",
       "      <td></td>\n",
       "      <td></td>\n",
       "      <td></td>\n",
       "      <td></td>\n",
       "      <td></td>\n",
       "      <td></td>\n",
       "      <td>...</td>\n",
       "      <td></td>\n",
       "      <td></td>\n",
       "      <td></td>\n",
       "      <td></td>\n",
       "      <td></td>\n",
       "      <td></td>\n",
       "      <td></td>\n",
       "      <td></td>\n",
       "      <td></td>\n",
       "      <td></td>\n",
       "    </tr>\n",
       "    <tr>\n",
       "      <th>4</th>\n",
       "      <td>39</td>\n",
       "      <td>40</td>\n",
       "      <td>49</td>\n",
       "      <td>50</td>\n",
       "      <td>51</td>\n",
       "      <td>52</td>\n",
       "      <td>53</td>\n",
       "      <td>54</td>\n",
       "      <td>55</td>\n",
       "      <td>56</td>\n",
       "      <td>...</td>\n",
       "      <td></td>\n",
       "      <td></td>\n",
       "      <td></td>\n",
       "      <td></td>\n",
       "      <td></td>\n",
       "      <td></td>\n",
       "      <td></td>\n",
       "      <td></td>\n",
       "      <td></td>\n",
       "      <td></td>\n",
       "    </tr>\n",
       "  </tbody>\n",
       "</table>\n",
       "<p>5 rows × 76 columns</p>\n",
       "</div>"
      ],
      "text/plain": [
       "    1   2   3   4   5   6   7   8   9  10  ... Unnamed: 66 Unnamed: 67  \\\n",
       "0  31  32  33                              ...                           \n",
       "1  34  35  36                              ...                           \n",
       "2  37  38  39  40  41  42  43  44  45  46  ...                           \n",
       "3  39  40  48  49                          ...                           \n",
       "4  39  40  49  50  51  52  53  54  55  56  ...                           \n",
       "\n",
       "  Unnamed: 68 Unnamed: 69 Unnamed: 70 Unnamed: 71 Unnamed: 72 Unnamed: 73  \\\n",
       "0                                                                           \n",
       "1                                                                           \n",
       "2                                                                           \n",
       "3                                                                           \n",
       "4                                                                           \n",
       "\n",
       "  Unnamed: 74 Unnamed: 75  \n",
       "0                          \n",
       "1                          \n",
       "2                          \n",
       "3                          \n",
       "4                          \n",
       "\n",
       "[5 rows x 76 columns]"
      ]
     },
     "execution_count": 547,
     "metadata": {},
     "output_type": "execute_result"
    }
   ],
   "source": [
    "df = pd.read_csv(\"HW3_data.csv\")\n",
    "df = df.fillna('')\n",
    "df.head()\n"
   ]
  },
  {
   "cell_type": "code",
   "execution_count": 548,
   "metadata": {},
   "outputs": [],
   "source": [
    "def remove_emptystrings(x_p):\n",
    "    for i in range(len(x_p)): \n",
    "        while(\"\" in x_p[i]):\n",
    "            x_p[i].remove(\"\")\n",
    "    return(x_p)"
   ]
  },
  {
   "cell_type": "code",
   "execution_count": 549,
   "metadata": {},
   "outputs": [],
   "source": [
    "df_lol = df.values.tolist()\n",
    "df_lol = remove_emptystrings(df_lol)\n",
    "all_count = {}"
   ]
  },
  {
   "cell_type": "code",
   "execution_count": 569,
   "metadata": {},
   "outputs": [],
   "source": [
    "def randome(listoflists, per):\n",
    "    lists = random.sample(listoflists, int(len(listoflists)*(per/100)))\n",
    "    return(lists)\n",
    "df_lol_20 = (randome(df_lol,20))"
   ]
  },
  {
   "cell_type": "code",
   "execution_count": 570,
   "metadata": {},
   "outputs": [],
   "source": [
    "def support1(df_lol, out, count, dic,support_per): \n",
    "    if count ==1:\n",
    "        flat_list = [int(item) for sublist in df_lol for item in sublist]\n",
    "        #print(len(set(flat_list)))\n",
    "        def counting(listy):\n",
    "            d= {}\n",
    "            for i in listy:\n",
    "                if i in d:\n",
    "                    d[(i)] = d[i]+1\n",
    "                else:\n",
    "                    d[(i)] = 1\n",
    "            return(d)\n",
    "        global d\n",
    "        d = counting(flat_list)\n",
    "        out = ([k for (k,v) in d.items() if v >= len(df_lol)*support_per])\n",
    "        dic[count] = out\n",
    "        count = count+1\n",
    "        return support1(df_lol,out,count,dic,support_per)\n",
    "    else:\n",
    "        temp = list(combinations(out,count))\n",
    "        test1 = list(map(lambda x: list(x),temp))\n",
    "        listy1 = []\n",
    "        for i in test1:\n",
    "            counting1 = 0\n",
    "            for j in df_lol:\n",
    "                result =  all(elem in j  for elem in i)\n",
    "                if result == True:\n",
    "                    counting1 = counting1 +1\n",
    "                else:\n",
    "                    pass\n",
    "            if counting1 >= int(len(df_lol)*support_per):\n",
    "                all_count[tuple(i)] = counting1\n",
    "                listy1.append(i)\n",
    "        if len(listy1) == 0:\n",
    "            return(dic)\n",
    "        else:\n",
    "            dic[count] = listy1\n",
    "            flat_list = [int(item) for sublist in listy1 for item in sublist]\n",
    "            out = list(set(flat_list))\n",
    "            count = count+1\n",
    "            return(support1(df_lol,out,count,dic,support_per))\n",
    "                \n",
    "     "
   ]
  },
  {
   "cell_type": "code",
   "execution_count": 571,
   "metadata": {},
   "outputs": [
    {
     "name": "stdout",
     "output_type": "stream",
     "text": [
      "{1: [40, 49, 61, 33, 42, 66, 118, 124, 259, 1328, 38, 39, 102, 148, 16011, 10, 37, 111, 80, 202, 311, 534, 176, 79, 593, 162, 414, 1147, 2959, 439, 825, 12926, 13042, 1579, 1005, 186, 238, 741, 171, 678, 90, 590, 957, 271, 784, 372, 3271, 2239, 77, 549, 14099, 302, 406, 46, 339, 16218, 250, 1394, 50, 226, 272, 476, 523, 20, 1601, 180, 10516, 704, 287, 480, 256, 15833, 32, 605], 2: [[40, 49], [40, 61], [40, 33], [40, 42], [40, 66], [40, 1328], [40, 39], [40, 102], [40, 148], [40, 37], [40, 111], [40, 80], [40, 311], [40, 534], [40, 414], [40, 1147], [40, 439], [40, 12926], [40, 238], [40, 171], [40, 90], [40, 271], [40, 2239], [40, 226], [40, 272], [40, 476], [40, 287], [40, 256], [49, 33], [49, 42], [49, 66], [49, 1328], [49, 39], [49, 102], [49, 148], [49, 37], [49, 111], [49, 80], [49, 311], [49, 534], [49, 414], [49, 439], [49, 238], [49, 171], [49, 90], [49, 271], [49, 2239], [49, 226], [49, 272], [49, 476], [49, 256], [33, 42], [33, 39], [42, 66], [42, 39], [38, 39], [39, 37], [39, 111], [39, 171], [39, 372], [39, 287]], 3: [[256, 40, 49], [272, 40, 49], [33, 39, 40], [33, 39, 49], [33, 40, 42], [33, 40, 49], [33, 42, 49], [37, 39, 40], [37, 39, 49], [37, 40, 49], [39, 40, 42], [39, 40, 171], [39, 40, 49], [39, 40, 111], [39, 42, 49], [39, 171, 49], [39, 49, 111], [40, 42, 49], [40, 171, 49], [40, 49, 311], [40, 49, 66], [40, 49, 90], [40, 49, 476], [40, 49, 226], [40, 49, 102], [40, 49, 238], [40, 49, 111]], 4: [[33, 39, 40, 49], [33, 40, 42, 49], [37, 39, 40, 49], [39, 40, 42, 49], [39, 40, 171, 49], [39, 40, 111, 49]]}\n",
      "--- 295.04578709602356 seconds ---\n"
     ]
    }
   ],
   "source": [
    "start_time = time.time()\n",
    "out  = None\n",
    "dic = {}\n",
    "count =1\n",
    "support_per = .01\n",
    "print(support1(df_lol_20,out,count,dic,support_per))\n",
    "print(\"--- %s seconds ---\" % (time.time() - start_time))\n",
    "\n",
    "                #print(lift)\n",
    "                    \n",
    "                    \n",
    "                #print(numerator)\n",
    "\n"
   ]
  },
  {
   "cell_type": "code",
   "execution_count": 572,
   "metadata": {},
   "outputs": [
    {
     "name": "stdout",
     "output_type": "stream",
     "text": [
      "168\n"
     ]
    }
   ],
   "source": [
    "#number of frequent Itemsets\n",
    "total = 0\n",
    "for i in range(1,len(dic.keys())+1):\n",
    "    total  = total+len(dic[i])\n",
    "print(total)"
   ]
  },
  {
   "cell_type": "code",
   "execution_count": 573,
   "metadata": {},
   "outputs": [
    {
     "name": "stdout",
     "output_type": "stream",
     "text": [
      "239\n"
     ]
    }
   ],
   "source": [
    "resultant_rules = []\n",
    "initial_list = [\"left_side\", \"right_side\", \"confidence\", \"numerator\", \"lift\"]\n",
    "resultant_rules.append(initial_list)\n",
    "z = {**d, **all_count}\n",
    "for i in range(2,len(dic.keys())+1):\n",
    "    for j in range(len(dic[i])):\n",
    "        temp = dic[i][j]\n",
    "        #print(temp)\n",
    "        for l in range(1,len(temp)):\n",
    "            temp1 = (combinations(temp,l))\n",
    "            for m in list(temp1):\n",
    "                copy = temp.copy()\n",
    "                copy =set(copy)\n",
    "                #print(copy)\n",
    "                remain = list(copy-set(m))\n",
    "                #print(remain)\n",
    "                ls = []\n",
    "                numerator= z[tuple(temp)]\n",
    "                #print(temp)\n",
    "                x1 = int(str(m[0]).rstrip(','))\n",
    "                denominator = z[x1]\n",
    "                confidence = numerator/denominator \n",
    "                lift = confidence/z[remain[0]]\n",
    "                if confidence > .05:\n",
    "                    ls.append(m)\n",
    "                    ls.append(remain)\n",
    "                    ls.append(confidence)\n",
    "                    ls.append(numerator)\n",
    "                    ls.append(lift)\n",
    "                    resultant_rules.append(ls)\n",
    "print(len(resultant_rules))\n",
    "#from __future__ import with_statement\n",
    "with open('2%_20%', 'w') as f:\n",
    "    for _list in resultant_rules:\n",
    "        for _string in _list:\n",
    "            #f.seek(0)\n",
    "            f.write(str(_string) + ' ')\n",
    "        f.write(\"\\n \")"
   ]
  },
  {
   "cell_type": "code",
   "execution_count": 516,
   "metadata": {},
   "outputs": [],
   "source": [
    "d_1  = dic #for the support 1%"
   ]
  },
  {
   "cell_type": "code",
   "execution_count": 517,
   "metadata": {},
   "outputs": [],
   "source": [
    "d_2 = dic  #for the support 2%"
   ]
  },
  {
   "cell_type": "code",
   "execution_count": 504,
   "metadata": {},
   "outputs": [],
   "source": [
    "d_3 = dic    #for the support 5%"
   ]
  },
  {
   "cell_type": "code",
   "execution_count": 525,
   "metadata": {},
   "outputs": [],
   "source": [
    "ls = []\n",
    "for i in d_1.values():\n",
    "    ls.append(i)\n",
    "flat_list = [item for sublist in ls for item in sublist]\n",
    "ls_1 = []\n",
    "for i in dic.values():\n",
    "    ls_1.append(i) \n",
    "flat_list_1 = flat_list = [item for sublist in ls_1 for item in sublist]\n",
    "\n",
    "False_Positives = 0\n",
    "for i in range(len(flat_list)):\n",
    "    if flat_list[i] not in flat_list_1:\n",
    "        False_Positives += 1\n",
    "False_Negative = 0\n",
    "for i in range(len(flat_list_1)):\n",
    "    if flat_list_1[i] not in flat_list:\n",
    "        False_Negative += 1\n",
    "#print(False_Positives)\n",
    "#print(False_Negative)\n",
    "        "
   ]
  },
  {
   "cell_type": "code",
   "execution_count": 568,
   "metadata": {},
   "outputs": [
    {
     "data": {
      "image/png": "[encoded data removed]",
      "text/plain": [
       "<Figure size 432x288 with 1 Axes>"
      ]
     },
     "metadata": {
      "needs_background": "light"
     },
     "output_type": "display_data"
    }
   ],
   "source": [
    "import matplotlib.pyplot as plt \n",
    "y = [677.0795619487762 ,157.8045938014984, 251.92460298538208 ,361.52341294288635 ]\n",
    "x = [ \"Aprori\",\"SR10_1\",\"SR20_1\",\"SR30_1\"]\n",
    "plt.plot(x,y)\n",
    "plt.show()"
   ]
  },
  {
   "cell_type": "code",
   "execution_count": null,
   "metadata": {},
   "outputs": [],
   "source": []
  }
 ],
 "metadata": {
  "kernelspec": {
   "display_name": "Python 3",
   "language": "python",
   "name": "python3"
  },
  "language_info": {
   "codemirror_mode": {
    "name": "ipython",
    "version": 3
   },
   "file_extension": ".py",
   "mimetype": "text/x-python",
   "name": "python",
   "nbconvert_exporter": "python",
   "pygments_lexer": "ipython3",
   "version": "3.7.3"
  }
 },
 "nbformat": 4,
 "nbformat_minor": 2
}
